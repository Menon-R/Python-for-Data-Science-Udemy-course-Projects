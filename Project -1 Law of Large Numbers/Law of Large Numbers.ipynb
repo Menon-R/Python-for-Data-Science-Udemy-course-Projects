{
 "cells": [
  {
   "cell_type": "code",
   "execution_count": 1,
   "id": "stock-nursery",
   "metadata": {},
   "outputs": [],
   "source": [
    "# **DESCRIPTION**\n",
    "# Test the Law of Large Numbers for N random normally distributed numbers with the mean=0 and standard deviation (stdev)=1.\n",
    "#Using a python script, count how mant of these generated numbers fall between the intervals of -1 and 1 and divide the total quantity of N.\n",
    "#Data Known: Expected value of x (E(x))= 68.2%\n",
    "# check Mean(Xn)~ E(x) as the script runs with increasing N values"
   ]
  },
  {
   "cell_type": "markdown",
   "id": "aquatic-heart",
   "metadata": {},
   "source": [
    "---\n"
   ]
  },
  {
   "cell_type": "code",
   "execution_count": 67,
   "id": "rocky-account",
   "metadata": {},
   "outputs": [
    {
     "data": {
      "text/plain": [
       "0.72"
      ]
     },
     "execution_count": 67,
     "metadata": {},
     "output_type": "execute_result"
    }
   ],
   "source": [
    "#SOLUTION \n",
    "\n",
    "#Make sure numpy package is installed\n",
    "#importing numpy package to use the randn fucntion to generate random values\n",
    "import numpy as np\n",
    "from numpy.random import randn\n",
    "N = 100          #sample size\n",
    "count=0          #to reset count to '0'\n",
    "for i in randn(N):\n",
    "    if(i>-1 and i<1):\n",
    "        count +=1      \n",
    "count/N              #hit-ratio\n"
   ]
  },
  {
   "cell_type": "code",
   "execution_count": null,
   "id": "loose-belle",
   "metadata": {},
   "outputs": [],
   "source": [
    "#As the value of N (sample size) is increased to 1000 and 10,000; the value gets closer to the expected value which is 68.2%"
   ]
  },
  {
   "cell_type": "code",
   "execution_count": 87,
   "id": "distinguished-bowling",
   "metadata": {},
   "outputs": [
    {
     "data": {
      "text/plain": [
       "0.675"
      ]
     },
     "execution_count": 87,
     "metadata": {},
     "output_type": "execute_result"
    }
   ],
   "source": [
    "# With sample Size N=1000\n",
    "import numpy as np\n",
    "from numpy.random import randn\n",
    "N = 1000          \n",
    "count=0          \n",
    "for i in randn(N):\n",
    "    if(i>-1 and i<1):\n",
    "        count +=1      \n",
    "count/N              "
   ]
  },
  {
   "cell_type": "code",
   "execution_count": 124,
   "id": "average-trade",
   "metadata": {},
   "outputs": [
    {
     "data": {
      "text/plain": [
       "0.68343"
      ]
     },
     "execution_count": 124,
     "metadata": {},
     "output_type": "execute_result"
    }
   ],
   "source": [
    "# With sample Size N=10,000\n",
    "import numpy as np\n",
    "from numpy.random import randn\n",
    "N = 100000        \n",
    "count=0          \n",
    "for i in randn(N):\n",
    "    if(i>-1 and i<1):\n",
    "        count +=1      \n",
    "count/N        "
   ]
  },
  {
   "cell_type": "code",
   "execution_count": null,
   "id": "above-lodging",
   "metadata": {},
   "outputs": [],
   "source": [
    "# as the value of N is set to 1000000; it can be observed that the expected value is achieved"
   ]
  },
  {
   "cell_type": "code",
   "execution_count": 141,
   "id": "authorized-substitute",
   "metadata": {},
   "outputs": [
    {
     "data": {
      "text/plain": [
       "0.682561"
      ]
     },
     "execution_count": 141,
     "metadata": {},
     "output_type": "execute_result"
    }
   ],
   "source": [
    "# With sample Size N=1000000\n",
    "import numpy as np\n",
    "from numpy.random import randn\n",
    "N = 1000000       \n",
    "count=0          \n",
    "for i in randn(N):\n",
    "    if(i>-1 and i<1):\n",
    "        count +=1      \n",
    "count/N        "
   ]
  },
  {
   "cell_type": "code",
   "execution_count": null,
   "id": "iraqi-dance",
   "metadata": {},
   "outputs": [],
   "source": []
  },
  {
   "cell_type": "code",
   "execution_count": null,
   "id": "passing-fortune",
   "metadata": {},
   "outputs": [],
   "source": []
  }
 ],
 "metadata": {
  "kernelspec": {
   "display_name": "Python 3",
   "language": "python",
   "name": "python3"
  },
  "language_info": {
   "codemirror_mode": {
    "name": "ipython",
    "version": 3
   },
   "file_extension": ".py",
   "mimetype": "text/x-python",
   "name": "python",
   "nbconvert_exporter": "python",
   "pygments_lexer": "ipython3",
   "version": "3.9.2"
  }
 },
 "nbformat": 4,
 "nbformat_minor": 5
}
