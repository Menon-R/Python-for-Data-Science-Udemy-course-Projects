{
 "cells": [
  {
   "cell_type": "markdown",
   "id": "metric-method",
   "metadata": {},
   "source": [
    "# Description\n",
    "We have been supplied with 2 vectors of data : *Monthly Revenue* and *Monthly Expenses* for the financial year.\n",
    "\n",
    "The following financial metrics must be Calculated:\n",
    "\n",
    "- profit for each month\n",
    "- profit after tax for each month (the tax rate is 30%)\n",
    "- profit margin for each month - equals to profit after tax divided by revenue\n",
    "- good months - where the profit after tax was greater than the mean for the year\n",
    "- bad months - where the profit after tax was less than the mean for the year\n",
    "- the best month - where the profit after tax was max for the year\n",
    "- the worst month - where the profit after tax was min for the year\n",
    "\n",
    "Results must be presented as lists.\n",
    "\n",
    "Results for dollar values need to be calculated with $0.01 precision, but need to be presented in Units of $1,000 (i.e. 1k) with no decimal points.\n",
    "\n",
    "Results for the profit margin ratio need to be presented in units of % with nodecimal points.\n",
    "\n",
    "Note: Your colleague has warned you that it is okay for tax for any given month to be negative (in accounting terms, negative tax translates into a deferred tax asset)."
   ]
  },
  {
   "cell_type": "code",
   "execution_count": 1,
   "id": "athletic-balloon",
   "metadata": {},
   "outputs": [],
   "source": [
    "#DATA\n",
    "\n",
    "revenue = [14574.49, 7606.46, 8611.41, 9175.41, 8058.65, 8105.44, 11496.28, 9766.09, 10305.32, 14379.96, 10713.97, 15433.50]\n",
    "expenses = [12051.82, 5695.07, 12319.20, 12089.72, 8658.57, 840.20, 3285.73, 5821.12, 6976.93, 16618.61, 10054.37, 3803.96]"
   ]
  },
  {
   "cell_type": "code",
   "execution_count": 3,
   "id": "equipped-feeding",
   "metadata": {},
   "outputs": [
    {
     "data": {
      "text/plain": [
       "[2522.67,\n",
       " 1911.3900000000003,\n",
       " -3707.790000000001,\n",
       " -2914.3099999999995,\n",
       " -599.9200000000001,\n",
       " 7265.24,\n",
       " 8210.550000000001,\n",
       " 3944.9700000000003,\n",
       " 3328.3899999999994,\n",
       " -2238.6500000000015,\n",
       " 659.5999999999985,\n",
       " 11629.54]"
      ]
     },
     "execution_count": 3,
     "metadata": {},
     "output_type": "execute_result"
    }
   ],
   "source": [
    "# Profit = Revenue - Expense\n",
    "profit =list([])\n",
    "\n",
    "#using for loop to calculate profit\n",
    "for i in range(0,len(revenue)):\n",
    "    profit.append(revenue[i]-expenses[i])\n",
    "\n",
    "profit\n"
   ]
  },
  {
   "cell_type": "code",
   "execution_count": 4,
   "id": "impaired-smooth",
   "metadata": {},
   "outputs": [
    {
     "data": {
      "text/plain": [
       "[756.8,\n",
       " 573.42,\n",
       " -1112.34,\n",
       " -874.29,\n",
       " -179.98,\n",
       " 2179.57,\n",
       " 2463.17,\n",
       " 1183.49,\n",
       " 998.52,\n",
       " -671.6,\n",
       " 197.88,\n",
       " 3488.86]"
      ]
     },
     "execution_count": 4,
     "metadata": {},
     "output_type": "execute_result"
    }
   ],
   "source": [
    "#Tax (30% 0f the Profit)\n",
    "\n",
    "tax= [round(i *0.3, 2) \n",
    "     for i in profit]\n",
    "\n",
    "tax"
   ]
  },
  {
   "cell_type": "code",
   "execution_count": 5,
   "id": "cardiovascular-cartridge",
   "metadata": {},
   "outputs": [
    {
     "data": {
      "text/plain": [
       "[1765.8700000000001,\n",
       " 1337.9700000000003,\n",
       " -2595.4500000000007,\n",
       " -2040.0199999999995,\n",
       " -419.94000000000005,\n",
       " 5085.67,\n",
       " 5747.380000000001,\n",
       " 2761.4800000000005,\n",
       " 2329.8699999999994,\n",
       " -1567.0500000000015,\n",
       " 461.71999999999855,\n",
       " 8140.68]"
      ]
     },
     "execution_count": 5,
     "metadata": {},
     "output_type": "execute_result"
    }
   ],
   "source": [
    "#Profit after Tax \n",
    "aftertaxprofit= list([])\n",
    "\n",
    "for i in range(0, len(profit)):\n",
    "    aftertaxprofit.append(profit[i]-tax[i])\n",
    "\n",
    "aftertaxprofit"
   ]
  },
  {
   "cell_type": "code",
   "execution_count": 10,
   "id": "dangerous-sussex",
   "metadata": {},
   "outputs": [
    {
     "data": {
      "text/plain": [
       "[12.12,\n",
       " 17.59,\n",
       " -30.14,\n",
       " -22.23,\n",
       " -5.21,\n",
       " 62.74,\n",
       " 49.99,\n",
       " 28.28,\n",
       " 22.61,\n",
       " -10.9,\n",
       " 4.31,\n",
       " 52.75]"
      ]
     },
     "execution_count": 10,
     "metadata": {},
     "output_type": "execute_result"
    }
   ],
   "source": [
    "#Profit margin after tax\n",
    "profitmargin=list([])\n",
    "\n",
    "for i in range(0,len(profit)):\n",
    "    profitmargin.append(aftertaxprofit[i]/revenue[i])\n",
    "\n",
    "\n",
    "profitmargin = [round((i*100),2) for i in profitmargin]\n",
    "profitmargin"
   ]
  },
  {
   "cell_type": "code",
   "execution_count": 11,
   "id": "characteristic-evanescence",
   "metadata": {},
   "outputs": [
    {
     "data": {
      "text/plain": [
       "1750.6816666666666"
      ]
     },
     "execution_count": 11,
     "metadata": {},
     "output_type": "execute_result"
    }
   ],
   "source": [
    "#Profit after Tax\n",
    "#Calculating mean -> sum /length for after tax profit\n",
    "pat=sum(aftertaxprofit)/len(aftertaxprofit)\n",
    "pat"
   ]
  },
  {
   "cell_type": "code",
   "execution_count": 13,
   "id": "painted-argentina",
   "metadata": {},
   "outputs": [
    {
     "data": {
      "text/plain": [
       "[True, False, False, False, False, True, True, True, True, False, False, True]"
      ]
     },
     "execution_count": 13,
     "metadata": {},
     "output_type": "execute_result"
    }
   ],
   "source": [
    "#Good Months\n",
    "gm=list([])\n",
    "\n",
    "for i in range(0,len(profit)):\n",
    "    gm.append(aftertaxprofit[i]>pat)\n",
    "gm"
   ]
  },
  {
   "cell_type": "code",
   "execution_count": 14,
   "id": "suitable-chosen",
   "metadata": {},
   "outputs": [
    {
     "data": {
      "text/plain": [
       "[False, True, True, True, True, False, False, False, False, True, True, False]"
      ]
     },
     "execution_count": 14,
     "metadata": {},
     "output_type": "execute_result"
    }
   ],
   "source": [
    "#Bad Months\n",
    "bm=list([])\n",
    "\n",
    "for i in range(0,len(profit)):\n",
    "    bm.append(aftertaxprofit[i]<pat)\n",
    "bm"
   ]
  },
  {
   "cell_type": "code",
   "execution_count": 15,
   "id": "coastal-language",
   "metadata": {},
   "outputs": [
    {
     "data": {
      "text/plain": [
       "[False,\n",
       " False,\n",
       " False,\n",
       " False,\n",
       " False,\n",
       " False,\n",
       " False,\n",
       " False,\n",
       " False,\n",
       " False,\n",
       " False,\n",
       " True]"
      ]
     },
     "execution_count": 15,
     "metadata": {},
     "output_type": "execute_result"
    }
   ],
   "source": [
    "#Best Month\n",
    "best=list([])\n",
    "\n",
    "for i in range(0,len(profit)):\n",
    "    best.append(aftertaxprofit[i]==max(aftertaxprofit))\n",
    "best"
   ]
  },
  {
   "cell_type": "code",
   "execution_count": 16,
   "id": "sufficient-diving",
   "metadata": {},
   "outputs": [
    {
     "data": {
      "text/plain": [
       "[False,\n",
       " False,\n",
       " True,\n",
       " False,\n",
       " False,\n",
       " False,\n",
       " False,\n",
       " False,\n",
       " False,\n",
       " False,\n",
       " False,\n",
       " False]"
      ]
     },
     "execution_count": 16,
     "metadata": {},
     "output_type": "execute_result"
    }
   ],
   "source": [
    "#Worst Month \n",
    "worst=list([])\n",
    "\n",
    "for i in range(0,len(profit)):\n",
    "    worst.append(aftertaxprofit[i]==min(aftertaxprofit))\n",
    "worst"
   ]
  },
  {
   "cell_type": "code",
   "execution_count": null,
   "id": "offshore-possibility",
   "metadata": {},
   "outputs": [],
   "source": []
  }
 ],
 "metadata": {
  "kernelspec": {
   "display_name": "Python 3",
   "language": "python",
   "name": "python3"
  },
  "language_info": {
   "codemirror_mode": {
    "name": "ipython",
    "version": 3
   },
   "file_extension": ".py",
   "mimetype": "text/x-python",
   "name": "python",
   "nbconvert_exporter": "python",
   "pygments_lexer": "ipython3",
   "version": "3.9.2"
  }
 },
 "nbformat": 4,
 "nbformat_minor": 5
}
